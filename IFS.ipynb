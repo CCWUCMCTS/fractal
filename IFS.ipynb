{
 "cells": [
  {
   "cell_type": "markdown",
   "metadata": {},
   "source": [
    "## 分形曲线之IFS植物形态曲线\n",
    "不是题目要求的，是网上找的，见py文件"
   ]
  },
  {
   "cell_type": "code",
   "execution_count": 6,
   "metadata": {},
   "outputs": [
    {
     "name": "stderr",
     "output_type": "stream",
     "text": [
      "C:\\Users\\wwwwww931121\\AppData\\Local\\Programs\\Python\\Python37\\lib\\site-packages\\ipykernel_launcher.py:57: DeprecationWarning: time.clock has been deprecated in Python 3.3 and will be removed from Python 3.8: use time.perf_counter or time.process_time instead\n",
      "C:\\Users\\wwwwww931121\\AppData\\Local\\Programs\\Python\\Python37\\lib\\site-packages\\ipykernel_launcher.py:60: DeprecationWarning: time.clock has been deprecated in Python 3.3 and will be removed from Python 3.8: use time.perf_counter or time.process_time instead\n"
     ]
    },
    {
     "data": {
      "text/plain": [
       "0.3791645999999673"
      ]
     },
     "execution_count": 6,
     "metadata": {},
     "output_type": "execute_result"
    }
   ],
   "source": [
    "import numpy as np\n",
    "import matplotlib.pyplot as plt\n",
    "import time\n",
    "import threading\n",
    "from time import sleep\n",
    "from matplotlib.animation import FuncAnimation\n",
    "# 蕨类植物叶子的迭代函数和其概率值\n",
    "eq1 = np.array([[0,0,0],[0,0.16,0]])\n",
    "p1 = 0.01\n",
    "\n",
    "eq2 = np.array([[0.2,-0.26,0],[0.23,0.22,1.6]])\n",
    "p2 = 0.07\n",
    "\n",
    "eq3 = np.array([[-0.15, 0.28, 0],[0.26,0.24,0.44]])\n",
    "p3 = 0.07\n",
    "\n",
    "eq4 = np.array([[0.85, 0.04, 0],[-0.04, 0.85, 1.6]])\n",
    "p4 = 0.85\n",
    "\n",
    "def ifs(p, eq, init, n):\n",
    "    \"\"\"\n",
    "        进行函数迭代\n",
    "        p: 每个函数的选择概率列表\n",
    "        eq: 迭代函数列表\n",
    "        init: 迭代初始点\n",
    "        n: 迭代次数\n",
    "\n",
    "        返回值： 每次迭代所得的X坐标数组， Y坐标数组， 计算所用的函数下标    \n",
    "        \"\"\"\n",
    "\n",
    "    # 迭代向量的初始化\n",
    "    pos = np.ones(3, dtype=np.float)\n",
    "    pos[:2] = init\n",
    "\n",
    "    # 通过函数概率，计算函数的选择序列\n",
    "    p = np.add.accumulate(p)    \n",
    "    rands = np.random.rand(n)\n",
    "    selec = np.ones(n, dtype=np.int)*(n-1)\n",
    "    for i, x in enumerate(p[::-1]):\n",
    "        selec[rands<x] = len(p)-i-1\n",
    "\n",
    "    # 结果的初始化\n",
    "    result = np.zeros((n,2), dtype=np.float)\n",
    "    c = np.zeros(n, dtype=np.float)\n",
    "\n",
    "    for i in range(n):\n",
    "        eqidx = selec[i] # 所选的函数下标\n",
    "        tmp = np.dot(eq[eqidx], pos) # 进行迭代\n",
    "        pos[:2] = tmp # 更新迭代向量\n",
    "\n",
    "    # 保存结果\n",
    "        result[i] = tmp\n",
    "        c[i] = eqidx\n",
    "\n",
    "    return result[:,0], result[:, 1], c\n",
    "\n",
    "start = time.clock()\n",
    "x, y, c = ifs([p1,p2,p3,p4],[eq1,eq2,eq3,eq4], [0,0], 100000)\n",
    "# print(len(x),y)\n",
    "time.clock() - start"
   ]
  },
  {
   "cell_type": "code",
   "execution_count": 24,
   "metadata": {
    "scrolled": true
   },
   "outputs": [
    {
     "name": "stderr",
     "output_type": "stream",
     "text": [
      "C:\\Users\\wwwwww931121\\AppData\\Local\\Programs\\Python\\Python37\\lib\\site-packages\\ipykernel_launcher.py:21: MatplotlibDeprecationWarning: Adding an axes using the same arguments as a previous axes currently reuses the earlier instance.  In a future version, a new instance will always be created and returned.  Meanwhile, this warning can be suppressed, and the future behavior ensured, by passing a unique label to each axes instance.\n",
      "C:\\Users\\wwwwww931121\\AppData\\Local\\Programs\\Python\\Python37\\lib\\site-packages\\ipykernel_launcher.py:25: MatplotlibDeprecationWarning: Adding an axes using the same arguments as a previous axes currently reuses the earlier instance.  In a future version, a new instance will always be created and returned.  Meanwhile, this warning can be suppressed, and the future behavior ensured, by passing a unique label to each axes instance.\n"
     ]
    },
    {
     "data": {
      "image/png": "[encoded data removed]",
      "text/plain": [
       "<Figure size 432x432 with 2 Axes>"
      ]
     },
     "metadata": {
      "needs_background": "light"
     },
     "output_type": "display_data"
    }
   ],
   "source": [
    "fig = plt.figure(figsize=(6,6))\n",
    "ax = plt.subplot(121)\n",
    "plt.axis(\"equal\")\n",
    "plt.axis(\"off\")\n",
    "ax = plt.subplot(122)\n",
    "plt.axis(\"equal\")\n",
    "plt.axis(\"off\")\n",
    "pool_size = 2\n",
    "\n",
    "control = [0,0]\n",
    "runtime_data = [[[],[],[]],[[],[],[]]]\n",
    "xlen = len(x)\n",
    "def animate(_):\n",
    "    for i in range(pool_size):\n",
    "        # print(control[i])\n",
    "\n",
    "        runtime_data[i] = [x[0:control[i]+1],y[0:control[i]+1],c[0:control[i]+1]]\n",
    "            # print(3,i,len(runtime_data[i][0]),len(runtime_data[i][1]))\n",
    "        # print(4,i,len(runtime_data[i][0]),len(runtime_data[i][1]))\n",
    "        if i==0:\n",
    "            ax = plt.subplot(121)\n",
    "            # print(5,i,len(runtime_data[i][0]),len(runtime_data[i][1]))\n",
    "            scatt = plt.scatter(runtime_data[i][0], runtime_data[i][1], s=1, c=\"g\", marker=\"s\", linewidths=0)\n",
    "        else:\n",
    "            ax = plt.subplot(122)\n",
    "            scatt = plt.scatter(runtime_data[i][0], runtime_data[i][1], s=1,c = runtime_data[i][2], marker=\"s\", linewidths=0)\n",
    "    ax.figure.canvas.draw()\n",
    "    return scatt,\n",
    "ani = FuncAnimation(fig, animate, interval=2, blit=True)\n",
    "def dataUpdate_thead(i):\n",
    "    while True:\n",
    "        # print(i)\n",
    "        control[i] = (control[i]+1)%xlen\n",
    "        # sleep(0.00001)\n",
    "ad_rdy_ev = threading.Event()\n",
    "ad_rdy_ev.set()  # 设置线程运行\n",
    "for i in range(pool_size):\n",
    "    ti = threading.Thread(target=dataUpdate_thead, args=(i,))\n",
    "    ti.daemon = True\n",
    "    ti.start()\n",
    "\n",
    "plt.show()"
   ]
  },
  {
   "cell_type": "code",
   "execution_count": null,
   "metadata": {},
   "outputs": [],
   "source": []
  }
 ],
 "metadata": {
  "kernelspec": {
   "display_name": "Python 3.7.6 64-bit",
   "language": "python",
   "name": "python37664bitb61998f1f22043e2b34a5beffa3705d2"
  },
  "language_info": {
   "codemirror_mode": {
    "name": "ipython",
    "version": 3
   },
   "file_extension": ".py",
   "mimetype": "text/x-python",
   "name": "python",
   "nbconvert_exporter": "python",
   "pygments_lexer": "ipython3",
   "version": "3.7.6"
  }
 },
 "nbformat": 4,
 "nbformat_minor": 2
}
