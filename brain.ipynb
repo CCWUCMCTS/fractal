{
 "cells": [
  {
   "cell_type": "markdown",
   "metadata": {},
   "source": [
    "## 分形曲线之脑分形曲线_std\n",
    "见py文件"
   ]
  },
  {
   "cell_type": "code",
   "execution_count": 1,
   "metadata": {},
   "outputs": [],
   "source": [
    "import numpy as np\n",
    "import matplotlib.pyplot as plt\n",
    "import time\n",
    "import threading\n",
    "from time import sleep\n",
    "from matplotlib.animation import FuncAnimation\n",
    "import random\n",
    "a=[[0.03,0,0,0.45,0,0,0.05],[-0.03,0,0,-0.45,0,0.4,0.15],[0.56,-0.56,0.56,0.56,0,0.4,0.4],[0.56,0.56,-0.56,0.56,0,0.4,0.4]]\n",
    "x0=0;y0=0\n",
    "x = []\n",
    "y = []\n",
    "num = 10000\n",
    "for i in range(num):\n",
    "    r = random.random()\n",
    "    if r<=0.05:\n",
    "        x1=a[0][0]*x0+a[0][1]*y0+a[0][4]\n",
    "        y1=a[0][2]*x0+a[0][3]*y0+a[0][5]\n",
    "    if 0.05<r<=0.2:\n",
    "        x1=a[1][0]*x0+a[1][1]*y0+a[1][4]\n",
    "        y1=a[1][2]*x0+a[1][3]*y0+a[1][5]\n",
    "    if 0.2<r<=0.6:\n",
    "        x1=a[2][0]*x0+a[2][1]*y0+a[2][4]\n",
    "        y1=a[2][2]*x0+a[2][3]*y0+a[2][5]\n",
    "    if 0.6<r<=1:\n",
    "        x1=a[3][0]*x0+a[3][1]*y0+a[3][4]\n",
    "        y1=a[3][2]*x0+a[3][3]*y0+a[3][5]\n",
    "    x0=x1;y0=y1\n",
    "    x.append(x1)\n",
    "    y.append(y1)\n",
    "c = [float(random.randint(1,20)) for i in range(num)]"
   ]
  },
  {
   "cell_type": "code",
   "execution_count": 2,
   "metadata": {},
   "outputs": [
    {
     "name": "stderr",
     "output_type": "stream",
     "text": [
      "C:\\Users\\wwwwww931121\\AppData\\Local\\Programs\\Python\\Python37\\lib\\site-packages\\ipykernel_launcher.py:21: MatplotlibDeprecationWarning: Adding an axes using the same arguments as a previous axes currently reuses the earlier instance.  In a future version, a new instance will always be created and returned.  Meanwhile, this warning can be suppressed, and the future behavior ensured, by passing a unique label to each axes instance.\n",
      "C:\\Users\\wwwwww931121\\AppData\\Local\\Programs\\Python\\Python37\\lib\\site-packages\\ipykernel_launcher.py:25: MatplotlibDeprecationWarning: Adding an axes using the same arguments as a previous axes currently reuses the earlier instance.  In a future version, a new instance will always be created and returned.  Meanwhile, this warning can be suppressed, and the future behavior ensured, by passing a unique label to each axes instance.\n"
     ]
    },
    {
     "data": {
      "image/png": "[encoded data removed]",
      "text/plain": [
       "<Figure size 432x432 with 2 Axes>"
      ]
     },
     "metadata": {
      "needs_background": "light"
     },
     "output_type": "display_data"
    }
   ],
   "source": [
    "fig = plt.figure(figsize=(6,6))\n",
    "ax = plt.subplot(121)\n",
    "plt.axis(\"equal\")\n",
    "plt.axis(\"off\")\n",
    "ax = plt.subplot(122)\n",
    "plt.axis(\"equal\")\n",
    "plt.axis(\"off\")\n",
    "pool_size = 2\n",
    "\n",
    "control = [0,0]\n",
    "runtime_data = [[[],[],[]],[[],[],[]]]\n",
    "xlen = len(x)\n",
    "def animate(_):\n",
    "    for i in range(pool_size):\n",
    "        # print(control[i])\n",
    "\n",
    "        runtime_data[i] = [x[0:control[i]+1],y[0:control[i]+1],c[0:control[i]+1]]\n",
    "            # print(3,i,len(runtime_data[i][0]),len(runtime_data[i][1]))\n",
    "        # print(4,i,len(runtime_data[i][0]),len(runtime_data[i][1]))\n",
    "        if i==0:\n",
    "            ax = plt.subplot(121)\n",
    "            # print(5,i,len(runtime_data[i][0]),len(runtime_data[i][1]))\n",
    "            scatt = plt.scatter(runtime_data[i][0], runtime_data[i][1], s=1, c=\"b\", marker=\"s\", linewidths=0)\n",
    "        else:\n",
    "            ax = plt.subplot(122)\n",
    "            scatt = plt.scatter(runtime_data[i][0], runtime_data[i][1], s=1,c = runtime_data[i][2], marker=\"s\", linewidths=0)\n",
    "    ax.figure.canvas.draw()\n",
    "    return scatt,\n",
    "ani = FuncAnimation(fig, animate, interval=2, blit=True, repeat=False)\n",
    "def dataUpdate_thead(i):\n",
    "    while True:\n",
    "        # print(i)\n",
    "        control[i] = (control[i]+1)%xlen\n",
    "        sleep(0.0001)\n",
    "ad_rdy_ev = threading.Event()\n",
    "ad_rdy_ev.set()  # 设置线程运行\n",
    "for i in range(pool_size):\n",
    "    ti = threading.Thread(target=dataUpdate_thead, args=(i,))\n",
    "    ti.daemon = True\n",
    "    ti.start()\n",
    "\n",
    "plt.show()"
   ]
  },
  {
   "cell_type": "code",
   "execution_count": null,
   "metadata": {},
   "outputs": [],
   "source": []
  }
 ],
 "metadata": {
  "kernelspec": {
   "display_name": "Python 3.7.6 64-bit",
   "language": "python",
   "name": "python37664bitb61998f1f22043e2b34a5beffa3705d2"
  },
  "language_info": {
   "codemirror_mode": {
    "name": "ipython",
    "version": 3
   },
   "file_extension": ".py",
   "mimetype": "text/x-python",
   "name": "python",
   "nbconvert_exporter": "python",
   "pygments_lexer": "ipython3",
   "version": "3.7.6"
  }
 },
 "nbformat": 4,
 "nbformat_minor": 2
}
